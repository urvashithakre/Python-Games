{
 "cells": [
  {
   "cell_type": "markdown",
   "id": "1061857e",
   "metadata": {},
   "source": [
    "# NUMBER GUESSING GAME"
   ]
  },
  {
   "cell_type": "code",
   "execution_count": 2,
   "id": "e7058a87",
   "metadata": {},
   "outputs": [
    {
     "name": "stdout",
     "output_type": "stream",
     "text": [
      "******NUMBER GUESSING GAME******\n",
      "Enter Lower bound: 1\n",
      "Enter Upper bound: 50\n",
      "Please enter your guess:44\n",
      "You guessed too high.Try again!\n",
      "\n",
      "Please enter your guess:23\n",
      "You guessed too high.Try again!\n",
      "\n",
      "Please enter your guess:12\n",
      "You guessed it right!\n",
      "Total Number of guesses =  3\n"
     ]
    }
   ],
   "source": [
    "import random\n",
    "print('******NUMBER GUESSING GAME******')\n",
    "lower = int(input(\"Enter Lower bound: \"))\n",
    "upper = int(input(\"Enter Upper bound: \"))\n",
    "number = random.randint(lower, upper)\n",
    "#print(number)\n",
    "count=0\n",
    "while True:\n",
    "    n = int(input(\"Please enter your guess:\"))\n",
    "    count+=1\n",
    "    if n>number:\n",
    "        print(\"You guessed too high.Try again!\\n\")\n",
    "    elif n<number:\n",
    "        print(\"You guessed too small.Try again!\\n\")\n",
    "    elif n==number:\n",
    "        print(\"You guessed it right!\")\n",
    "        print(\"Total Number of guesses = \",count)\n",
    "        break"
   ]
  },
  {
   "cell_type": "code",
   "execution_count": null,
   "id": "4635eb5c",
   "metadata": {},
   "outputs": [],
   "source": []
  }
 ],
 "metadata": {
  "kernelspec": {
   "display_name": "Python 3",
   "language": "python",
   "name": "python3"
  },
  "language_info": {
   "codemirror_mode": {
    "name": "ipython",
    "version": 3
   },
   "file_extension": ".py",
   "mimetype": "text/x-python",
   "name": "python",
   "nbconvert_exporter": "python",
   "pygments_lexer": "ipython3",
   "version": "3.8.3"
  }
 },
 "nbformat": 4,
 "nbformat_minor": 5
}
